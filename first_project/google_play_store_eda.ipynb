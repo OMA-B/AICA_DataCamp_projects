{
 "cells": [
  {
   "cell_type": "markdown",
   "metadata": {},
   "source": [
    "# Google Play Store Exploratory Data Analysis\n",
    "\n",
    "Congratulations! You've been hired by APPDEV Inc. as their latest Data Science Intern, to help them derive insights from a Google Play Store dataset they've provided, in order to help them know what type of apps they can make next, that will fetch them lots of users and in turn, more revenue.\n",
    "\n",
    "Your tasks are very simple, as they have been very much outlined for you...\n",
    "all you just have to do is follow them intuitively, and you might wanna take some notes along the way.\n",
    "\n",
    "Good luck!"
   ]
  },
  {
   "cell_type": "code",
   "execution_count": 16,
   "metadata": {},
   "outputs": [
    {
     "name": "stdout",
     "output_type": "stream",
     "text": [
      "Requirement already satisfied: pandas in /home/oma_b/code-X/ds_projects/.venv/lib/python3.10/site-packages (2.2.3)\n",
      "Requirement already satisfied: matplotlib in /home/oma_b/code-X/ds_projects/.venv/lib/python3.10/site-packages (3.9.2)\n",
      "Requirement already satisfied: seaborn in /home/oma_b/code-X/ds_projects/.venv/lib/python3.10/site-packages (0.13.2)\n",
      "Requirement already satisfied: scipy in /home/oma_b/code-X/ds_projects/.venv/lib/python3.10/site-packages (1.14.1)\n",
      "Requirement already satisfied: pytz>=2020.1 in /home/oma_b/code-X/ds_projects/.venv/lib/python3.10/site-packages (from pandas) (2024.2)\n",
      "Requirement already satisfied: tzdata>=2022.7 in /home/oma_b/code-X/ds_projects/.venv/lib/python3.10/site-packages (from pandas) (2024.2)\n",
      "Requirement already satisfied: numpy>=1.22.4 in /home/oma_b/code-X/ds_projects/.venv/lib/python3.10/site-packages (from pandas) (2.1.1)\n",
      "Requirement already satisfied: python-dateutil>=2.8.2 in /home/oma_b/code-X/ds_projects/.venv/lib/python3.10/site-packages (from pandas) (2.9.0.post0)\n",
      "Requirement already satisfied: pyparsing>=2.3.1 in /home/oma_b/code-X/ds_projects/.venv/lib/python3.10/site-packages (from matplotlib) (3.1.4)\n",
      "Requirement already satisfied: kiwisolver>=1.3.1 in /home/oma_b/code-X/ds_projects/.venv/lib/python3.10/site-packages (from matplotlib) (1.4.7)\n",
      "Requirement already satisfied: fonttools>=4.22.0 in /home/oma_b/code-X/ds_projects/.venv/lib/python3.10/site-packages (from matplotlib) (4.54.1)\n",
      "Requirement already satisfied: packaging>=20.0 in /home/oma_b/code-X/ds_projects/.venv/lib/python3.10/site-packages (from matplotlib) (24.1)\n",
      "Requirement already satisfied: contourpy>=1.0.1 in /home/oma_b/code-X/ds_projects/.venv/lib/python3.10/site-packages (from matplotlib) (1.3.0)\n",
      "Requirement already satisfied: pillow>=8 in /home/oma_b/code-X/ds_projects/.venv/lib/python3.10/site-packages (from matplotlib) (10.4.0)\n",
      "Requirement already satisfied: cycler>=0.10 in /home/oma_b/code-X/ds_projects/.venv/lib/python3.10/site-packages (from matplotlib) (0.12.1)\n",
      "Requirement already satisfied: six>=1.5 in /home/oma_b/code-X/ds_projects/.venv/lib/python3.10/site-packages (from python-dateutil>=2.8.2->pandas) (1.16.0)\n"
     ]
    }
   ],
   "source": [
    "# Run this cell and the next to install and import the required packages.\n",
    "! pip install pandas matplotlib seaborn scipy"
   ]
  },
  {
   "cell_type": "code",
   "execution_count": 17,
   "metadata": {},
   "outputs": [],
   "source": [
    "# import the required packages\n",
    "import pandas as pd\n",
    "import numpy as np\n",
    "import matplotlib.pyplot as plt\n",
    "import seaborn as sns"
   ]
  },
  {
   "cell_type": "markdown",
   "metadata": {},
   "source": [
    "# Time to explore your data\n",
    "\n",
    "1. read in the CSV file\n",
    "2. print the first 10 rows"
   ]
  },
  {
   "cell_type": "code",
   "execution_count": 1,
   "metadata": {},
   "outputs": [],
   "source": [
    "# Code here..."
   ]
  },
  {
   "cell_type": "markdown",
   "metadata": {},
   "source": [
    "3. check out more `info` about the data. "
   ]
  },
  {
   "cell_type": "code",
   "execution_count": 2,
   "metadata": {},
   "outputs": [],
   "source": [
    "# Code here..."
   ]
  },
  {
   "cell_type": "markdown",
   "metadata": {},
   "source": [
    "4. seems like there are some missing values, find out how many there are..."
   ]
  },
  {
   "cell_type": "code",
   "execution_count": 3,
   "metadata": {},
   "outputs": [],
   "source": [
    "# Code here..."
   ]
  },
  {
   "cell_type": "markdown",
   "metadata": {},
   "source": [
    "5. are there `duplicated` values as well?\n",
    "\n",
    "(*take some notes here*)"
   ]
  },
  {
   "cell_type": "code",
   "execution_count": 4,
   "metadata": {},
   "outputs": [],
   "source": [
    "# Code here..."
   ]
  },
  {
   "cell_type": "markdown",
   "metadata": {},
   "source": [
    "# Now, let's clean the dirty data\n",
    "\n",
    "Natural instinct is we drop the rows containing the missing values, right?\n",
    "but we will be losing lots of data if we do that, let's try this instead:\n",
    "\n",
    "1. define a threshold that won't allow lose of data above 5% of the whole dataset.\n",
    "2. fetch the columns with missing values less than our set threshold into a list.\n",
    "3. drop the missing values in the rows of the collected columns from the original dataset.\n",
    "4. drop the duplicates as well, if there are any.\n",
    "5. now, let's recheck the `info` of our data."
   ]
  },
  {
   "cell_type": "code",
   "execution_count": 5,
   "metadata": {},
   "outputs": [],
   "source": [
    "# Code here..."
   ]
  },
  {
   "cell_type": "markdown",
   "metadata": {},
   "source": [
    "our data doesn't seem to look much as if we picked it from a dump site like it did earlier, right?\n",
    "well, we are not there yet, as we still have some missing data in the `Rating` column, let's see how we can fill that void and make our data as white as snow, so, stay with me (^_^)...\n",
    "\n",
    "6. `group` the data `by` the `Installs` column and compute the `median` of the `Rating` column, store the result as a dictionary.\n",
    "7. on the original dataset, `fill` the missing values of the `Rating` column by `mapping` the dictionary on the `Installs` column.\n",
    "8. if you check our data now, you'll realize there are still some missing values as we couldn't fill them all, but not to worry, you can `drop` these ones, since they are not much.\n",
    "9. recheck our data now, looks perfect, doesn't it?\n",
    "\n",
    "(*take some notes here*)"
   ]
  },
  {
   "cell_type": "code",
   "execution_count": 6,
   "metadata": {},
   "outputs": [],
   "source": [
    "# Code here..."
   ]
  },
  {
   "cell_type": "markdown",
   "metadata": {},
   "source": [
    "# Let's perform some transformation magic\n",
    "\n",
    "If you take a look at the first few rows of our dataset, you'll notice that the `Installs` column has commas and plus signs, they should be numbers, but when you check the data type of this column and that of `Reviews`, you see that they are objects, we need to make them integers, as we will need them later:\n",
    "\n",
    "1. replace the comma sign in the `Installs` column with nothing.\n",
    "2. do the same for the plus sign.\n",
    "3. now, convert the data type of the `Installs` column to integer.\n",
    "4. do the same for the `Reviews` column.\n",
    "5. recheck the original dataset to see if the changes have taken place.\n",
    "\n",
    "(*you might wanna take some notes here*)"
   ]
  },
  {
   "cell_type": "code",
   "execution_count": 7,
   "metadata": {},
   "outputs": [],
   "source": [
    "# Code here..."
   ]
  },
  {
   "cell_type": "markdown",
   "metadata": {},
   "source": [
    "# Time for some Visual Scenes\n",
    "\n",
    "APPDEV Inc. wants to know what category has the most apps and which has the least...\n",
    "\n",
    "Let's explore some distributions on the App Categories:\n",
    "\n",
    "1. create a histogram plot on the `Category` column.\n",
    "2. label the x-axis: `Category of Apps on PlayStore`, y-axis: `Count of Apps in each Category`, title: `Distribution of App Categories`.\n",
    "3. show the plot. "
   ]
  },
  {
   "cell_type": "code",
   "execution_count": 8,
   "metadata": {},
   "outputs": [],
   "source": [
    "# Code here..."
   ]
  },
  {
   "cell_type": "markdown",
   "metadata": {},
   "source": [
    "oh my..., that doesn't look like much, we can't derive good insights from it, looks kinda ugly, right?, especially the x-axis, urgh!\n",
    "well, let's add some cosmetics:\n",
    "\n",
    "1. copy the code from the previous cell into the next.\n",
    "2. this time, change the plot into a `countplot` from the seaborn package.\n",
    "3. add a figure size of 10 by 6, to make it look bigger, do this at the very first line of the cell.\n",
    "4. you can add `grid` lines, to add a touch of accuracy in reading.\n",
    "5. the labels stay the same, but add an `xticks` with a `rotation` of 90 degrees.\n",
    "6. let's add some coloration to the `countplot` to improve the beauty: `hue='Category'`.\n",
    "7. now, let's behold the beauty.\n",
    "\n",
    "(*take some notes here*)"
   ]
  },
  {
   "cell_type": "code",
   "execution_count": 9,
   "metadata": {},
   "outputs": [],
   "source": [
    "# Code here..."
   ]
  },
  {
   "cell_type": "markdown",
   "metadata": {},
   "source": [
    "...looked really good, right?\n",
    "\n",
    "now, APPDEV Inc. wants to know if there is any correlation between ratings and reviews... \n",
    "\n",
    "let's perform couple more visuals, this time, on the relationship between the `Reviews` and `Rating`:\n",
    "\n",
    "1. set the figure size like you did earlier.\n",
    "2. construct the `Rating` column against the `Reviews` column on a `scatterplot`.\n",
    "3. label the x-axis: `Number of Reviews` and the title: `Relationship between Reviews and Ratings`.\n",
    "4. now, `show` your plot.\n",
    "\n",
    "(*take some notes here*)"
   ]
  },
  {
   "cell_type": "code",
   "execution_count": 10,
   "metadata": {},
   "outputs": [],
   "source": [
    "# Code here..."
   ]
  },
  {
   "cell_type": "markdown",
   "metadata": {},
   "source": [
    "...that was owkae.\n",
    "\n",
    "moving on, APPDEV Inc. wants to know which category has more installs...\n",
    "\n",
    "let's find out the distribution of `Installs` across the Categories:\n",
    "\n",
    "1. use a `boxplot` to construct the `Installs` column against the `Category` column.\n",
    "2. label the x-axis: `Category of Apps on PlayStore`, y-axis: `Amount of Installs in each Category`, title: `Distribution of Installs across Categories`.\n",
    "3. show the plot. "
   ]
  },
  {
   "cell_type": "code",
   "execution_count": 11,
   "metadata": {},
   "outputs": [],
   "source": [
    "# Code here..."
   ]
  },
  {
   "cell_type": "markdown",
   "metadata": {},
   "source": [
    "what is this? (\\*o*)...\n",
    "\n",
    "I bet that was the expression on your face.\n",
    "\n",
    "yeah, it looked ridiculous, right?, even worse than the last one, we definitely can't make sense of this and the board might have a heart attack if we present this to them...\n",
    "\n",
    "so many outliers, let's fix that:\n",
    "\n",
    "1. create another column, in the original dataset, called `Installs_log`, perform a logarithmic computation on the `Installs` column using the `log()` method from the numpy package and save to the new column.\n",
    "2. subset both columns from the original dataset to view the first 5 rows side by side."
   ]
  },
  {
   "cell_type": "code",
   "execution_count": 12,
   "metadata": {},
   "outputs": [],
   "source": [
    "# Code here..."
   ]
  },
  {
   "cell_type": "markdown",
   "metadata": {},
   "source": [
    "now, let's construct the `boxplot` again, this time, with beauty:\n",
    "\n",
    "1. copy the code from the previous cell into the next.\n",
    "2. add a figure size of 10 by 6\n",
    "3. use `Installs_log` instead of `Installs`.\n",
    "4. add some coloration to the plot using the `Category` column.\n",
    "5. the labels stay the same, but make the y-axis label: `Log-Amount of Installs in each Category` and add a `rotation` of 90 degrees.\n",
    "6. now, let's behold the beauty.\n",
    "\n",
    "(*you might wanna take some notes here*)"
   ]
  },
  {
   "cell_type": "code",
   "execution_count": 13,
   "metadata": {},
   "outputs": [],
   "source": [
    "# Code here..."
   ]
  },
  {
   "cell_type": "markdown",
   "metadata": {},
   "source": [
    "...wow, looks perfect, doesn't it? (^_^).\n",
    "\n",
    "# We have an Hypothesis...\n",
    "\n",
    "A thought just crossed the MD's mind, he's curious to know if there's any difference in the ratings of paid apps vs. free apps, he's come to your desk and asked you to get rid of his curiousity... \n",
    "\n",
    "how do we go about this?, let's find out:\n",
    "\n",
    "1. import `ttest_ind` from `stats` module of the `scipy` package, so we can find out what's up between these `two independent` variables.\n",
    "2. subset the original dataset to filter out the free apps from the `Type` column, save the new DataFrame in `free_apps`.\n",
    "3. do the same for paid apps, save to `paid_apps`."
   ]
  },
  {
   "cell_type": "code",
   "execution_count": 14,
   "metadata": {},
   "outputs": [],
   "source": [
    "# Code here..."
   ]
  },
  {
   "cell_type": "markdown",
   "metadata": {},
   "source": [
    "you've been provided an alpha value and test result variables have been set for you, now:\n",
    "\n",
    "1. conduct the test, using the `Rating` column of the free apps against that of the paid apps\n",
    "2. create a result dictionary that takes the `p_value` as a key, then the value should be `Reject null hypothesis: There is a significant difference in ratings.` if the p_value was less than the alpha value, or `Failed to reject null hypothesis: There is no significant difference in ratings.` if not.\n",
    "3. print the result.\n",
    "\n",
    "(*take some notes here*)"
   ]
  },
  {
   "cell_type": "code",
   "execution_count": 15,
   "metadata": {},
   "outputs": [],
   "source": [
    "# Code here..."
   ]
  },
  {
   "cell_type": "markdown",
   "metadata": {},
   "source": [
    "# Well Done!\n",
    "\n",
    "Wow, great job so far...\n",
    "you've really done well.\n",
    "\n",
    "but, it's not over... just one last thing tho:\n",
    "\n",
    "* now that you've explored, cleaned and derived some insights from the data, it's time for you to present what you've found\n",
    "* you have the whole of APPDEV Inc. in front of you, based on the notes you've taken, tell them a story to remember, one that they can make informed decision from.\n",
    "\n",
    "Good luck! (^_^)"
   ]
  }
 ],
 "metadata": {
  "kernelspec": {
   "display_name": ".venv",
   "language": "python",
   "name": "python3"
  },
  "language_info": {
   "codemirror_mode": {
    "name": "ipython",
    "version": 3
   },
   "file_extension": ".py",
   "mimetype": "text/x-python",
   "name": "python",
   "nbconvert_exporter": "python",
   "pygments_lexer": "ipython3",
   "version": "3.10.12"
  }
 },
 "nbformat": 4,
 "nbformat_minor": 2
}
